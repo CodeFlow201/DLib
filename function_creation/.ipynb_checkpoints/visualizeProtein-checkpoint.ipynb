{
 "cells": [
  {
   "cell_type": "code",
   "execution_count": 31,
   "metadata": {},
   "outputs": [],
   "source": [
    "import matplotlib.pyplot as plt"
   ]
  },
  {
   "cell_type": "code",
   "execution_count": 33,
   "metadata": {},
   "outputs": [],
   "source": [
    "proteincount={'A': 4,\n",
    "  'C': 2,\n",
    "  'D': 2,\n",
    "  'E': 2,\n",
    "  'F': 2,\n",
    "  'G': 4,\n",
    "  'H': 2,\n",
    "  'I': 3,\n",
    "  'K': 2,\n",
    "  'L': 6,\n",
    "  'M': 1,\n",
    "  'N': 2,\n",
    "  'P': 4,\n",
    "  'Q': 2,\n",
    "  'R': 6,\n",
    "  'S': 6,\n",
    "  'T': 4,\n",
    "  'V': 4,\n",
    "  'W': 1,\n",
    "  'Y': 2,\n",
    "  '*': 3}"
   ]
  },
  {
   "cell_type": "code",
   "execution_count": 30,
   "metadata": {},
   "outputs": [
    {
     "data": {
      "image/png": "[encoded data removed]",
      "text/plain": [
       "<Figure size 720x360 with 1 Axes>"
      ]
     },
     "metadata": {
      "needs_background": "light"
     },
     "output_type": "display_data"
    }
   ],
   "source": [
    "fig = plt.figure(figsize = (10, 5))\n",
    "proteinname=proteincount.val\n",
    "langs = ['C', 'C++', 'Java', 'Python', 'PHP']\n",
    "students = [23,17,35,29,12]\n",
    "# creating the bar plot\n",
    "plt.bar(langs, students, color ='maroon',\n",
    "        width = 0.4)\n",
    " \n",
    "plt.show()"
   ]
  },
  {
   "cell_type": "code",
   "execution_count": null,
   "metadata": {},
   "outputs": [],
   "source": []
  }
 ],
 "metadata": {
  "kernelspec": {
   "display_name": "Python 3",
   "language": "python",
   "name": "python3"
  },
  "language_info": {
   "codemirror_mode": {
    "name": "ipython",
    "version": 3
   },
   "file_extension": ".py",
   "mimetype": "text/x-python",
   "name": "python",
   "nbconvert_exporter": "python",
   "pygments_lexer": "ipython3",
   "version": "3.8.5"
  }
 },
 "nbformat": 4,
 "nbformat_minor": 4
}
